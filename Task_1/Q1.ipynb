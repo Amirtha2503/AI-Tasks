{
 "cells": [
  {
   "cell_type": "code",
   "execution_count": 1,
   "id": "ce58537c",
   "metadata": {},
   "outputs": [
    {
     "name": "stdout",
     "output_type": "stream",
     "text": [
      "1Aaa3.5Maths2Bbb4.2Physics3Ccc7.62Chemistry4Ddd9.55Biology5Eee4.0Social6Fff7.6English7Ggg3.111Maths8Hhh9.99Physics9Iii1.23Civics\n"
     ]
    }
   ],
   "source": [
    "f = open(r'C:\\Users\\User\\Downloads\\onlinefile.txt', 'r')\n",
    "p = f.read()\n",
    "print(p)\n",
    "f.close()"
   ]
  },
  {
   "cell_type": "code",
   "execution_count": 5,
   "id": "30b4a852",
   "metadata": {},
   "outputs": [],
   "source": [
    "import pandas as pd\n",
    "df = pd.read_csv(r'C:\\Users\\User\\Downloads\\onlinefile.txt')\n",
    "df.to_csv('Filename2.csv',index = None)"
   ]
  },
  {
   "cell_type": "code",
   "execution_count": 7,
   "id": "d05ac2bb",
   "metadata": {},
   "outputs": [
    {
     "name": "stdout",
     "output_type": "stream",
     "text": [
      "   1  Aaa    3.5      Maths\n",
      "0  2  Bbb  4.200    Physics\n",
      "1  3  Ccc  7.620  Chemistry\n",
      "2  4  Ddd  9.550    Biology\n",
      "3  5  Eee  4.000     Social\n",
      "4  6  Fff  7.600    English\n",
      "5  7  Ggg  3.111      Maths\n",
      "6  8  Hhh  9.990    Physics\n",
      "7  9  Iii  1.230     Civics\n"
     ]
    }
   ],
   "source": [
    "import pandas as pd\n",
    "df = pd.read_csv(r'C:\\Users\\User\\Cognizance\\Task_1\\Filename2.csv')\n",
    "print(df)"
   ]
  },
  {
   "cell_type": "code",
   "execution_count": null,
   "id": "95ea85c6",
   "metadata": {},
   "outputs": [],
   "source": []
  }
 ],
 "metadata": {
  "kernelspec": {
   "display_name": "Python 3 (ipykernel)",
   "language": "python",
   "name": "python3"
  },
  "language_info": {
   "codemirror_mode": {
    "name": "ipython",
    "version": 3
   },
   "file_extension": ".py",
   "mimetype": "text/x-python",
   "name": "python",
   "nbconvert_exporter": "python",
   "pygments_lexer": "ipython3",
   "version": "3.9.7"
  }
 },
 "nbformat": 4,
 "nbformat_minor": 5
}
