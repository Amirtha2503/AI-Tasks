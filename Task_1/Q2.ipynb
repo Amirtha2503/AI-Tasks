{
 "cells": [
  {
   "cell_type": "code",
   "execution_count": 7,
   "id": "9a734c1b",
   "metadata": {},
   "outputs": [
    {
     "name": "stdout",
     "output_type": "stream",
     "text": [
      "Id               0\n",
      "MSSubClass       0\n",
      "MSZoning         0\n",
      "LotFrontage     14\n",
      "LotArea          0\n",
      "Street           0\n",
      "Alley           93\n",
      "LotShape         0\n",
      "LandContour      0\n",
      "Utilities        0\n",
      "LotConfig        0\n",
      "LandSlope        0\n",
      "Neighborhood     0\n",
      "Condition1       0\n",
      "Condition2       0\n",
      "BldgType         0\n",
      "HouseStyle       0\n",
      "OverallQual      0\n",
      "OverallCond      0\n",
      "YearBuilt        0\n",
      "YearRemodAdd     0\n",
      "RoofStyle        0\n",
      "RoofMatl         0\n",
      "Exterior1st      0\n",
      "Exterior2nd      0\n",
      "MasVnrType       0\n",
      "MasVnrArea       0\n",
      "ExterQual        0\n",
      "ExterCond        0\n",
      "Foundation       0\n",
      "BsmtQual         3\n",
      "BsmtCond         3\n",
      "BsmtExposure     3\n",
      "BsmtFinType1     3\n",
      "BsmtFinSF1       0\n",
      "BsmtFinType2     3\n",
      "dtype: int64\n",
      "Total number of missing values:  122\n"
     ]
    }
   ],
   "source": [
    "import pandas as pd\n",
    "import numpy as np\n",
    "\n",
    "missing_values = [\"NAN\", \"NA\", \"-\", \"Nil\"]\n",
    "df = pd.read_csv(\"https://raw.githubusercontent.com/cognizance-amrita/AI-Tasks/main/Q2-Dataset.csv\", na_values = missing_values)\n",
    "# Number of missing values in each column\n",
    "print(df.isnull().sum())\n",
    "# Total number of missing values(all columns combined)\n",
    "print(\"Total number of missing values: \",df.isnull().sum().sum())"
   ]
  },
  {
   "cell_type": "code",
   "execution_count": 14,
   "id": "cfec710e",
   "metadata": {},
   "outputs": [
    {
     "name": "stdout",
     "output_type": "stream",
     "text": [
      "Id              0\n",
      "MSSubClass      0\n",
      "MSZoning        0\n",
      "LotFrontage     0\n",
      "LotArea         0\n",
      "Street          0\n",
      "Alley           0\n",
      "LotShape        0\n",
      "LandContour     0\n",
      "Utilities       0\n",
      "LotConfig       0\n",
      "LandSlope       0\n",
      "Neighborhood    0\n",
      "Condition1      0\n",
      "Condition2      0\n",
      "BldgType        0\n",
      "HouseStyle      0\n",
      "OverallQual     0\n",
      "OverallCond     0\n",
      "YearBuilt       0\n",
      "YearRemodAdd    0\n",
      "RoofStyle       0\n",
      "RoofMatl        0\n",
      "Exterior1st     0\n",
      "Exterior2nd     0\n",
      "MasVnrType      0\n",
      "MasVnrArea      0\n",
      "ExterQual       0\n",
      "ExterCond       0\n",
      "Foundation      0\n",
      "BsmtQual        0\n",
      "BsmtCond        0\n",
      "BsmtExposure    0\n",
      "BsmtFinType1    0\n",
      "BsmtFinSF1      0\n",
      "BsmtFinType2    0\n",
      "dtype: int64\n"
     ]
    }
   ],
   "source": [
    "# Replacing the missing values according to each column\n",
    "import pandas as pd\n",
    "import numpy as np\n",
    "\n",
    "missing_values = [\"NAN\", \"NA\", \"-\", \"Nil\"]\n",
    "df = pd.read_csv(\"https://raw.githubusercontent.com/cognizance-amrita/AI-Tasks/main/Q2-Dataset.csv\", na_values = missing_values)\n",
    "df['LotFrontage'].fillna(50, inplace=True)\n",
    "df['Alley'].fillna('Pave', inplace=True)\n",
    "df['BsmtQual'].fillna('Gd', inplace=True)\n",
    "df['BsmtCond'].fillna('Gd', inplace=True)\n",
    "df['BsmtExposure'].fillna('Mn', inplace=True)\n",
    "df['BsmtFinType1'].fillna('ALQ', inplace=True)\n",
    "df['BsmtFinType2'].fillna('Unf', inplace=True)\n",
    "print(df.isnull().sum()) # All NIL values are filled"
   ]
  },
  {
   "cell_type": "code",
   "execution_count": null,
   "id": "c9b8e3a8",
   "metadata": {},
   "outputs": [],
   "source": []
  }
 ],
 "metadata": {
  "kernelspec": {
   "display_name": "Python 3 (ipykernel)",
   "language": "python",
   "name": "python3"
  },
  "language_info": {
   "codemirror_mode": {
    "name": "ipython",
    "version": 3
   },
   "file_extension": ".py",
   "mimetype": "text/x-python",
   "name": "python",
   "nbconvert_exporter": "python",
   "pygments_lexer": "ipython3",
   "version": "3.9.7"
  }
 },
 "nbformat": 4,
 "nbformat_minor": 5
}
