{
 "cells": [
  {
   "cell_type": "code",
   "execution_count": 81,
   "id": "a8b49b12",
   "metadata": {},
   "outputs": [
    {
     "name": "stdout",
     "output_type": "stream",
     "text": [
      "Python has tools for almost every aspect of scientific computing. The Bank of America uses Python to crunch its financial data and Facebook looks upon the Python library Pandas for its data analysis. While there are many libraries available to perform data analysis in Python, here are a few: NumPy, SciPy, Pandas and Matplotlib. \n"
     ]
    }
   ],
   "source": [
    "# Reading file\n",
    "f = open(r'C:\\Users\\User\\Downloads\\about.txt','r')\n",
    "p = f.read()\n",
    "print(p)\n",
    "f.close()"
   ]
  },
  {
   "cell_type": "code",
   "execution_count": 68,
   "id": "debf5aec",
   "metadata": {},
   "outputs": [
    {
     "name": "stdout",
     "output_type": "stream",
     "text": [
      "Python\n",
      "almost\n",
      "aspect\n",
      "scientific\n",
      "computing\n",
      "America\n",
      "Python\n",
      "crunch\n",
      "financial\n",
      "Facebook\n",
      "Python\n",
      "library\n",
      "Pandas\n",
      "analysis\n",
      "libraries\n",
      "available\n",
      "perform\n",
      "analysis\n",
      "Python\n",
      "Pandas\n",
      "Matplotlib\n"
     ]
    }
   ],
   "source": [
    "# Words with atleast 6 letters\n",
    "with open(r'C:\\Users\\User\\Downloads\\about.txt','r') as p:\n",
    "    for i in p:\n",
    "        j = i.split(\".\")\n",
    "        for k in j:\n",
    "            s = k.split(\" \")\n",
    "            for h in s:\n",
    "                if len(h)>=6: \n",
    "                    if h[-1]!=',':\n",
    "                        print(h)    \n",
    "                    elif len(h)>6 and h[-1] == ',':\n",
    "                        print(h[0:6])"
   ]
  },
  {
   "cell_type": "code",
   "execution_count": 82,
   "id": "23714f15",
   "metadata": {},
   "outputs": [
    {
     "name": "stdout",
     "output_type": "stream",
     "text": [
      "Most frequently used word: python\n",
      "count: 4\n"
     ]
    }
   ],
   "source": [
    "# Most frequently used word\n",
    "f = open(r'C:\\Users\\User\\Downloads\\about.txt','r')\n",
    "f1 = \"\"\n",
    "c = 0\n",
    "l = []\n",
    "\n",
    "for i in f:\n",
    "    j = i.lower().replace(',','').replace('.','').split(\" \");\n",
    "    for w in j:\n",
    "        l.append(w);\n",
    "\n",
    "for i in range(0, len(l)):\n",
    "    k = 1;\n",
    "    for j in range(i+1, len(l)):\n",
    "        if(l[i] == l[j]):\n",
    "            k = k + 1;\n",
    "\n",
    "    if(k > c):\n",
    "        c = k;\n",
    "        f1 = l[i];\n",
    "\n",
    "print(\"Most frequently used word: \" + f1)\n",
    "print(\"count: \" + str(c))\n",
    "f.close();"
   ]
  },
  {
   "cell_type": "code",
   "execution_count": null,
   "id": "e871c5e6",
   "metadata": {},
   "outputs": [],
   "source": []
  }
 ],
 "metadata": {
  "kernelspec": {
   "display_name": "Python 3 (ipykernel)",
   "language": "python",
   "name": "python3"
  },
  "language_info": {
   "codemirror_mode": {
    "name": "ipython",
    "version": 3
   },
   "file_extension": ".py",
   "mimetype": "text/x-python",
   "name": "python",
   "nbconvert_exporter": "python",
   "pygments_lexer": "ipython3",
   "version": "3.9.7"
  }
 },
 "nbformat": 4,
 "nbformat_minor": 5
}
